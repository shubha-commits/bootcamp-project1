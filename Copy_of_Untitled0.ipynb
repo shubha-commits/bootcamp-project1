{
  "nbformat": 4,
  "nbformat_minor": 0,
  "metadata": {
    "colab": {
      "name": "Copy of Untitled0.ipynb",
      "provenance": [],
      "collapsed_sections": []
    },
    "kernelspec": {
      "name": "python3",
      "display_name": "Python 3"
    },
    "language_info": {
      "name": "python"
    }
  },
  "cells": [
    {
      "cell_type": "code",
      "metadata": {
        "colab": {
          "base_uri": "https://localhost:8080/"
        },
        "id": "FBSs4bbjlfhq",
        "outputId": "cc2dbe78-e08c-4d38-e8d4-ff402e9b9524"
      },
      "source": [
        "#Ques:1 write a program in python to generate MD5 of string data\n",
        "# code to demonstrate the  working of MD5(byte-byte)\n",
        "import hashlib\n",
        "result=hashlib.md5(b'harsh')\n",
        "print(\"the byte equivalent of hash is:\",end=\"\")\n",
        "print(result.digest())"
      ],
      "execution_count": null,
      "outputs": [
        {
          "output_type": "stream",
          "text": [
            "the byte equivalent of hash is:b'\\xd4\\xe3s\\x0e\\x8c\\xba!O\\x85\\xcd\\xda\\xe5\\xf93\\x1dt'\n"
          ],
          "name": "stdout"
        }
      ]
    },
    {
      "cell_type": "code",
      "metadata": {
        "colab": {
          "base_uri": "https://localhost:8080/"
        },
        "id": "2-SzQ5R_oMV8",
        "outputId": "35b9f9bc-95dd-4704-b215-5cd7073f97e6"
      },
      "source": [
        "#write a program in python to generate MD5 of string data\n",
        "# code to demonstrate the  working of MD5(string-hexadecimal)\n",
        "import hashlib\n",
        "str2hash = \"harsh\"\n",
        "# encoding harsh using encode() then sending to md5()\n",
        "result=hashlib.md5(str2hash.encode())\n",
        "#printing the equivalent hexa decimla value.\n",
        "print(\"the hexadecimal equivalent of hash is:\",end =\"\")\n",
        "print(result.hexdigest())"
      ],
      "execution_count": null,
      "outputs": [
        {
          "output_type": "stream",
          "text": [
            "the hexadecimal equivalent of hash is:d4e3730e8cba214f85cddae5f9331d74\n"
          ],
          "name": "stdout"
        }
      ]
    },
    {
      "cell_type": "code",
      "metadata": {
        "colab": {
          "base_uri": "https://localhost:8080/",
          "height": 129
        },
        "id": "uyIXUkLQrW5I",
        "outputId": "ec0e5550-4095-4b41-9c29-011ebe56d81c"
      },
      "source": [
        "#Ques:2\n",
        "#write a prog in python to generate hashes of string data using 3 algoriths from hashlib\n",
        "import hashlib\n",
        "m=hashlib.sha256()\n",
        "m.update(b\"Nobody inspects\")\n",
        "m.update(b\"the spammish repitation\")\n",
        " m.digest()\n",
        "b'\\x03\\x1e\\xdd}Ae\\x15\\x93\\xc5\\xfe\\\\\\x00o\\xa5u+7\\xfd\\xdf\\xf7\\xbcN\\x84:\\xa6\\xaf\\x0c\\x95\\x0fK\\x94\\x06'\n",
        "m.digest_size\n",
        "m.block_size\n"
      ],
      "execution_count": null,
      "outputs": [
        {
          "output_type": "error",
          "ename": "IndentationError",
          "evalue": "ignored",
          "traceback": [
            "\u001b[0;36m  File \u001b[0;32m\"<ipython-input-9-6348067a6251>\"\u001b[0;36m, line \u001b[0;32m7\u001b[0m\n\u001b[0;31m    m.digest()\u001b[0m\n\u001b[0m    ^\u001b[0m\n\u001b[0;31mIndentationError\u001b[0m\u001b[0;31m:\u001b[0m unexpected indent\n"
          ]
        }
      ]
    },
    {
      "cell_type": "code",
      "metadata": {
        "colab": {
          "base_uri": "https://localhost:8080/",
          "height": 35
        },
        "id": "3kZbYWIttlry",
        "outputId": "3e014a99-164a-4914-c70c-f1de5ac7069a"
      },
      "source": [
        "hashlib.sha224(b\"Nobody inspects the spammish repetition\").hexdigest()\n",
        "'a4337bc45a8fc544c03f52dc550cd6e1e87021bc896588bd79e901e2'"
      ],
      "execution_count": null,
      "outputs": [
        {
          "output_type": "execute_result",
          "data": {
            "application/vnd.google.colaboratory.intrinsic+json": {
              "type": "string"
            },
            "text/plain": [
              "'a4337bc45a8fc544c03f52dc550cd6e1e87021bc896588bd79e901e2'"
            ]
          },
          "metadata": {
            "tags": []
          },
          "execution_count": 10
        }
      ]
    },
    {
      "cell_type": "code",
      "metadata": {
        "colab": {
          "base_uri": "https://localhost:8080/",
          "height": 129
        },
        "id": "jw7NHmEutwhP",
        "outputId": "f4e36dad-001f-4b0b-87c5-7cc1f380a939"
      },
      "source": [
        "Using new() with an algorithm provided by OpenSSL:\n",
        "h = hashlib.new('sha512_256')\n",
        "h.update(b\"Nobody inspects the spammish repetition\")\n",
        "h.hexdigest()\n",
        "'19197dc4d03829df858011c6c87600f994a858103bbc19005f20987aa19a97e2'"
      ],
      "execution_count": null,
      "outputs": [
        {
          "output_type": "error",
          "ename": "SyntaxError",
          "evalue": "ignored",
          "traceback": [
            "\u001b[0;36m  File \u001b[0;32m\"<ipython-input-11-09ad39079c1c>\"\u001b[0;36m, line \u001b[0;32m1\u001b[0m\n\u001b[0;31m    Using new() with an algorithm provided by OpenSSL:\u001b[0m\n\u001b[0m            ^\u001b[0m\n\u001b[0;31mSyntaxError\u001b[0m\u001b[0;31m:\u001b[0m invalid syntax\n"
          ]
        }
      ]
    },
    {
      "cell_type": "code",
      "metadata": {
        "colab": {
          "base_uri": "https://localhost:8080/",
          "height": 35
        },
        "id": "ERfO8YPyuBaV",
        "outputId": "74a06a1b-4784-4ba0-97be-1b923f2a1111"
      },
      "source": [
        "import hashlib\n",
        "dk = hashlib.pbkdf2_hmac('sha256', b'password', b'salt', 100000)\n",
        "dk.hex()\n",
        "'0394a2ede332c9a13eb82e9b24631604c31df978b4e2f0fbd2c549944f9d79a5'"
      ],
      "execution_count": null,
      "outputs": [
        {
          "output_type": "execute_result",
          "data": {
            "application/vnd.google.colaboratory.intrinsic+json": {
              "type": "string"
            },
            "text/plain": [
              "'0394a2ede332c9a13eb82e9b24631604c31df978b4e2f0fbd2c549944f9d79a5'"
            ]
          },
          "metadata": {
            "tags": []
          },
          "execution_count": 12
        }
      ]
    },
    {
      "cell_type": "code",
      "metadata": {
        "colab": {
          "base_uri": "https://localhost:8080/",
          "height": 129
        },
        "id": "cgmTeY7nuGgH",
        "outputId": "cf55e05a-4893-427d-f9f0-54875cb35fe2"
      },
      "source": [
        "#Ques:3 add salting and iteration to youyr hashes\n",
        "#Append every time:\n",
        "\n",
        "// some nice big salt\n",
        "$salt = hash($algorithm, $salt);\n",
        "\n",
        "// apply $algorithm $runs times for slowdown\n",
        "while ($runs--) {\n",
        "    $string = hash($algorithm, $string . $salt, $raw);\n",
        "}\n",
        "\n",
        "return $string;\n"
      ],
      "execution_count": null,
      "outputs": [
        {
          "output_type": "error",
          "ename": "SyntaxError",
          "evalue": "ignored",
          "traceback": [
            "\u001b[0;36m  File \u001b[0;32m\"<ipython-input-13-133355ece82b>\"\u001b[0;36m, line \u001b[0;32m4\u001b[0m\n\u001b[0;31m    (/, some, nice, big, salt)\u001b[0m\n\u001b[0m     ^\u001b[0m\n\u001b[0;31mSyntaxError\u001b[0m\u001b[0;31m:\u001b[0m invalid syntax\n"
          ]
        }
      ]
    },
    {
      "cell_type": "code",
      "metadata": {
        "colab": {
          "base_uri": "https://localhost:8080/",
          "height": 129
        },
        "id": "LGg2SrlgxQ2I",
        "outputId": "3a374704-8d37-4723-cec7-6d9deff29027"
      },
      "source": [
        "hash(\"hello\") =\n",
        "2cf24dba5fb0a30e26e83b2ac5b9e29e1b161e5c1fa7425e73043362938b9824\n",
        "\n",
        "hash(\"hello\" + \"QxLUF1bgIAdeQX\") = \n",
        "9e209040c863f84a31e719795b2577523954739fe5ed3b58a75cff2127075ed1\n",
        "\n",
        "hash(\"hello\" + \"bv5PehSMfV11Cd\") = \n",
        "d1d3ec2e6f20fd420d50e2642992841d8338a314b8ea157c9e18477aaef226ab\n",
        "\n",
        "hash(\"hello\" + \"YYLmfY6IehjZMQ\") = \n",
        "a49670c3c18b9e079b9cfaf51634f563dc8ae3070db2c4a8544305df1b60f007"
      ],
      "execution_count": null,
      "outputs": [
        {
          "output_type": "error",
          "ename": "SyntaxError",
          "evalue": "ignored",
          "traceback": [
            "\u001b[0;36m  File \u001b[0;32m\"<ipython-input-14-fd820a81d75c>\"\u001b[0;36m, line \u001b[0;32m1\u001b[0m\n\u001b[0;31m    hash(\"hello\") =\u001b[0m\n\u001b[0m                   ^\u001b[0m\n\u001b[0;31mSyntaxError\u001b[0m\u001b[0;31m:\u001b[0m invalid syntax\n"
          ]
        }
      ]
    }
  ]
}